{
  "nbformat": 4,
  "nbformat_minor": 0,
  "metadata": {
    "colab": {
      "name": "9.MNIST_RNN.ipynb",
      "provenance": [],
      "collapsed_sections": []
    },
    "kernelspec": {
      "name": "python3",
      "display_name": "Python 3"
    },
    "accelerator": "GPU"
  },
  "cells": [
    {
      "cell_type": "code",
      "metadata": {
        "id": "SRHiHotZkoAf",
        "colab_type": "code",
        "outputId": "37bebfea-0717-4b6f-fbb1-80e6a5daec78",
        "colab": {
          "base_uri": "https://localhost:8080/",
          "height": 986
        }
      },
      "source": [
        "# 引入 datasets 模組\n",
        "from keras.datasets import mnist\n",
        "# 引入 layers 網路層模組\n",
        "from keras.layers import Dense, LSTM\n",
        "# 引入 utils 模組\n",
        "from keras.utils import to_categorical\n",
        "# 引入 Sequential 顺序模組\n",
        "from keras.models import Sequential\n",
        "\n",
        "#parameters for LSTM\n",
        "nb_lstm_outputs = 30  \n",
        "nb_time_steps = 28  \n",
        "nb_input_vector = 28 \n",
        "\n",
        "#data preprocessing: tofloat32, normalization, one_hot encoding\n",
        "(x_train, y_train), (x_test, y_test) = mnist.load_data()\n",
        "# 轉換色彩 0~255 資料為 0~1\n",
        "x_train = x_train.astype('float32')\n",
        "x_test = x_test.astype('float32')\n",
        "x_train /= 255\n",
        "x_test /= 255\n",
        " \n",
        "y_train = to_categorical(y_train, num_classes=10)\n",
        "y_test = to_categorical(y_test, num_classes=10)\n",
        "\n",
        "#build model\n",
        "model = Sequential()\n",
        "model.add(LSTM(units=nb_lstm_outputs, input_shape=(nb_time_steps, nb_input_vector)))\n",
        "model.add(Dense(10, activation='softmax'))\n",
        "\n",
        "#compile:loss, optimizer, metrics\n",
        "model.compile(loss='categorical_crossentropy', optimizer='adam', metrics=['accuracy'])\n",
        "#train: epcoch, batch_size\n",
        "model.fit(x_train, y_train, epochs=20, batch_size=128, verbose=1)\n",
        "\n",
        "model.summary()\n",
        "\n",
        "score = model.evaluate(x_test, y_test,batch_size=128, verbose=1)\n",
        "print(score)"
      ],
      "execution_count": 0,
      "outputs": [
        {
          "output_type": "stream",
          "text": [
            "Using TensorFlow backend.\n"
          ],
          "name": "stderr"
        },
        {
          "output_type": "stream",
          "text": [
            "Downloading data from https://s3.amazonaws.com/img-datasets/mnist.npz\n",
            "11493376/11490434 [==============================] - 2s 0us/step\n",
            "Epoch 1/20\n",
            "60000/60000 [==============================] - 39s 658us/step - loss: 1.0045 - accuracy: 0.6829\n",
            "Epoch 2/20\n",
            "60000/60000 [==============================] - 37s 618us/step - loss: 0.3429 - accuracy: 0.9017\n",
            "Epoch 3/20\n",
            "60000/60000 [==============================] - 37s 625us/step - loss: 0.2345 - accuracy: 0.9322\n",
            "Epoch 4/20\n",
            "60000/60000 [==============================] - 37s 621us/step - loss: 0.1867 - accuracy: 0.9466\n",
            "Epoch 5/20\n",
            "60000/60000 [==============================] - 37s 618us/step - loss: 0.1568 - accuracy: 0.9540\n",
            "Epoch 6/20\n",
            "60000/60000 [==============================] - 37s 615us/step - loss: 0.1363 - accuracy: 0.9602\n",
            "Epoch 7/20\n",
            "60000/60000 [==============================] - 37s 609us/step - loss: 0.1244 - accuracy: 0.9636\n",
            "Epoch 8/20\n",
            "60000/60000 [==============================] - 37s 611us/step - loss: 0.1094 - accuracy: 0.9680\n",
            "Epoch 9/20\n",
            "60000/60000 [==============================] - 37s 609us/step - loss: 0.1022 - accuracy: 0.9695\n",
            "Epoch 10/20\n",
            "60000/60000 [==============================] - 37s 619us/step - loss: 0.0928 - accuracy: 0.9726\n",
            "Epoch 11/20\n",
            "60000/60000 [==============================] - 37s 612us/step - loss: 0.0877 - accuracy: 0.9735\n",
            "Epoch 12/20\n",
            "60000/60000 [==============================] - 37s 616us/step - loss: 0.0821 - accuracy: 0.9754\n",
            "Epoch 13/20\n",
            "60000/60000 [==============================] - 37s 614us/step - loss: 0.0761 - accuracy: 0.9774\n",
            "Epoch 14/20\n",
            "60000/60000 [==============================] - 36s 606us/step - loss: 0.0722 - accuracy: 0.9784\n",
            "Epoch 15/20\n",
            "60000/60000 [==============================] - 36s 607us/step - loss: 0.0685 - accuracy: 0.9800\n",
            "Epoch 16/20\n",
            "60000/60000 [==============================] - 37s 609us/step - loss: 0.0645 - accuracy: 0.9808\n",
            "Epoch 17/20\n",
            "60000/60000 [==============================] - 36s 605us/step - loss: 0.0625 - accuracy: 0.9816\n",
            "Epoch 18/20\n",
            "60000/60000 [==============================] - 36s 602us/step - loss: 0.0566 - accuracy: 0.9830\n",
            "Epoch 19/20\n",
            "60000/60000 [==============================] - 36s 603us/step - loss: 0.0571 - accuracy: 0.9827\n",
            "Epoch 20/20\n",
            "60000/60000 [==============================] - 36s 603us/step - loss: 0.0528 - accuracy: 0.9845\n",
            "Model: \"sequential_1\"\n",
            "_________________________________________________________________\n",
            "Layer (type)                 Output Shape              Param #   \n",
            "=================================================================\n",
            "lstm_1 (LSTM)                (None, 30)                7080      \n",
            "_________________________________________________________________\n",
            "dense_1 (Dense)              (None, 10)                310       \n",
            "=================================================================\n",
            "Total params: 7,390\n",
            "Trainable params: 7,390\n",
            "Non-trainable params: 0\n",
            "_________________________________________________________________\n",
            "10000/10000 [==============================] - 1s 73us/step\n",
            "[0.06998170068860055, 0.9781000018119812]\n"
          ],
          "name": "stdout"
        }
      ]
    }
  ]
}