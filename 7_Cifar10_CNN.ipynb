{
  "nbformat": 4,
  "nbformat_minor": 0,
  "metadata": {
    "colab": {
      "name": "7.Cifar10_CNN.ipynb",
      "provenance": [],
      "collapsed_sections": []
    },
    "kernelspec": {
      "name": "python3",
      "display_name": "Python 3"
    }
  },
  "cells": [
    {
      "cell_type": "code",
      "metadata": {
        "id": "PmU5NKx6BJPv",
        "colab_type": "code",
        "outputId": "c6da538e-19aa-48d5-da1e-b758aced03c2",
        "colab": {
          "base_uri": "https://localhost:8080/",
          "height": 1000
        }
      },
      "source": [
        "# 引入 datasets 模組\n",
        "from keras.datasets import cifar10\n",
        "# 載入 cifar10 訓練 / 測試資料集\n",
        "(x_train, y_train_), (x_test, y_test_) = cifar10.load_data()\n",
        "# 轉換色彩 0~255 資料為 0~1\n",
        "x_train = x_train.astype('float32') / 255\n",
        "x_test = x_test.astype('float32') / 255\n",
        "# 類別向量轉換為二進位制（只有0和1）的矩陣型別表示\n",
        "from keras.utils import to_categorical\n",
        "y_train = to_categorical(y_train_)\n",
        "y_test = to_categorical(y_test_)\n",
        "\n",
        "\"\"\"## Model Definition\"\"\"\n",
        "# 引入 Sequential 顺序模組\n",
        "from keras.models import Sequential\n",
        "model = Sequential()\n",
        "# 引入 layers 網路層模組\n",
        "from keras.layers import Conv2D, MaxPool2D, Flatten, Dense\n",
        "\n",
        "model.add(Conv2D(filters=32, \n",
        "                kernel_size=(3, 3),\n",
        "                activation='relu',\n",
        "                input_shape=(32, 32, 3)))\n",
        "\n",
        "model.add(MaxPool2D())\n",
        "\n",
        "model.add(Conv2D(filters=64,\n",
        "                kernel_size=(3, 3),\n",
        "                activation='relu'))\n",
        "model.add(MaxPool2D())\n",
        "\n",
        "model.add(Flatten())\n",
        "model.add(Dense(10, activation='softmax'))\n",
        "\n",
        "model.compile(optimizer='adam',\n",
        "             loss='categorical_crossentropy',\n",
        "             metrics=['accuracy'])\n",
        "\n",
        "print(model.summary())\n",
        "\n",
        "\"\"\"## Fitting\"\"\"\n",
        "\n",
        "history = model.fit(x_train, y_train, batch_size=50, epochs=15, verbose=1, validation_data=(x_test, y_test))\n",
        "# 引入 matplotlib.pyplot 模組\n",
        "import matplotlib.pyplot as plt\n",
        "\n",
        "history_dict = history.history\n",
        "loss_values = history_dict['loss']\n",
        "val_loss_values = history_dict['val_loss']\n",
        "\n",
        "epochs = range(1, len(history_dict['accuracy']) + 1)\n",
        "\n",
        "plt.plot(epochs, loss_values, 'bo', label='Training loss')\n",
        "plt.plot(epochs, val_loss_values, 'b', label='Validation loss')\n",
        "plt.title('Training and validation loss')\n",
        "plt.xlabel('Epochs')\n",
        "plt.ylabel('Loss')\n",
        "plt.legend()\n",
        "\n",
        "plt.show()"
      ],
      "execution_count": 0,
      "outputs": [
        {
          "output_type": "stream",
          "text": [
            "Using TensorFlow backend.\n"
          ],
          "name": "stderr"
        },
        {
          "output_type": "stream",
          "text": [
            "Downloading data from https://www.cs.toronto.edu/~kriz/cifar-10-python.tar.gz\n",
            "170500096/170498071 [==============================] - 32s 0us/step\n",
            "Model: \"sequential_1\"\n",
            "_________________________________________________________________\n",
            "Layer (type)                 Output Shape              Param #   \n",
            "=================================================================\n",
            "conv2d_1 (Conv2D)            (None, 30, 30, 32)        896       \n",
            "_________________________________________________________________\n",
            "max_pooling2d_1 (MaxPooling2 (None, 15, 15, 32)        0         \n",
            "_________________________________________________________________\n",
            "conv2d_2 (Conv2D)            (None, 13, 13, 64)        18496     \n",
            "_________________________________________________________________\n",
            "max_pooling2d_2 (MaxPooling2 (None, 6, 6, 64)          0         \n",
            "_________________________________________________________________\n",
            "flatten_1 (Flatten)          (None, 2304)              0         \n",
            "_________________________________________________________________\n",
            "dense_1 (Dense)              (None, 10)                23050     \n",
            "=================================================================\n",
            "Total params: 42,442\n",
            "Trainable params: 42,442\n",
            "Non-trainable params: 0\n",
            "_________________________________________________________________\n",
            "None\n",
            "Train on 50000 samples, validate on 10000 samples\n",
            "Epoch 1/15\n",
            "50000/50000 [==============================] - 58s 1ms/step - loss: 1.5229 - accuracy: 0.4586 - val_loss: 1.3253 - val_accuracy: 0.5355\n",
            "Epoch 2/15\n",
            "50000/50000 [==============================] - 57s 1ms/step - loss: 1.1888 - accuracy: 0.5878 - val_loss: 1.1472 - val_accuracy: 0.5958\n",
            "Epoch 3/15\n",
            "50000/50000 [==============================] - 57s 1ms/step - loss: 1.0653 - accuracy: 0.6331 - val_loss: 1.0622 - val_accuracy: 0.6325\n",
            "Epoch 4/15\n",
            "50000/50000 [==============================] - 56s 1ms/step - loss: 0.9832 - accuracy: 0.6627 - val_loss: 1.0273 - val_accuracy: 0.6468\n",
            "Epoch 5/15\n",
            "50000/50000 [==============================] - 55s 1ms/step - loss: 0.9319 - accuracy: 0.6810 - val_loss: 0.9592 - val_accuracy: 0.6694\n",
            "Epoch 6/15\n",
            "50000/50000 [==============================] - 54s 1ms/step - loss: 0.8882 - accuracy: 0.6970 - val_loss: 0.9536 - val_accuracy: 0.6716\n",
            "Epoch 7/15\n",
            "50000/50000 [==============================] - 55s 1ms/step - loss: 0.8471 - accuracy: 0.7126 - val_loss: 0.9514 - val_accuracy: 0.6737\n",
            "Epoch 8/15\n",
            "50000/50000 [==============================] - 54s 1ms/step - loss: 0.8177 - accuracy: 0.7215 - val_loss: 0.9425 - val_accuracy: 0.6779\n",
            "Epoch 9/15\n",
            "50000/50000 [==============================] - 54s 1ms/step - loss: 0.7905 - accuracy: 0.7277 - val_loss: 0.9044 - val_accuracy: 0.6939\n",
            "Epoch 10/15\n",
            "50000/50000 [==============================] - 53s 1ms/step - loss: 0.7646 - accuracy: 0.7380 - val_loss: 0.9125 - val_accuracy: 0.6916\n",
            "Epoch 11/15\n",
            "50000/50000 [==============================] - 52s 1ms/step - loss: 0.7423 - accuracy: 0.7460 - val_loss: 0.9268 - val_accuracy: 0.6891\n",
            "Epoch 12/15\n",
            "50000/50000 [==============================] - 52s 1ms/step - loss: 0.7216 - accuracy: 0.7513 - val_loss: 0.9302 - val_accuracy: 0.6918\n",
            "Epoch 13/15\n",
            "50000/50000 [==============================] - 52s 1ms/step - loss: 0.7054 - accuracy: 0.7560 - val_loss: 0.8959 - val_accuracy: 0.7017\n",
            "Epoch 14/15\n",
            "50000/50000 [==============================] - 52s 1ms/step - loss: 0.6846 - accuracy: 0.7656 - val_loss: 0.9449 - val_accuracy: 0.6857\n",
            "Epoch 15/15\n",
            "50000/50000 [==============================] - 53s 1ms/step - loss: 0.6647 - accuracy: 0.7724 - val_loss: 0.9483 - val_accuracy: 0.6867\n"
          ],
          "name": "stdout"
        },
        {
          "output_type": "display_data",
          "data": {
            "image/png": "[encoded data removed]",
            "text/plain": [
              "<Figure size 432x288 with 1 Axes>"
            ]
          },
          "metadata": {
            "tags": [],
            "needs_background": "light"
          }
        }
      ]
    }
  ]
}